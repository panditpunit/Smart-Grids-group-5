{
 "cells": [
  {
   "cell_type": "code",
   "execution_count": 1,
   "metadata": {},
   "outputs": [],
   "source": [
    "import pandas as pd"
   ]
  },
  {
   "cell_type": "code",
   "execution_count": 2,
   "metadata": {},
   "outputs": [
    {
     "data": {
      "text/html": [
       "<div>\n",
       "<style scoped>\n",
       "    .dataframe tbody tr th:only-of-type {\n",
       "        vertical-align: middle;\n",
       "    }\n",
       "\n",
       "    .dataframe tbody tr th {\n",
       "        vertical-align: top;\n",
       "    }\n",
       "\n",
       "    .dataframe thead th {\n",
       "        text-align: right;\n",
       "    }\n",
       "</style>\n",
       "<table border=\"1\" class=\"dataframe\">\n",
       "  <thead>\n",
       "    <tr style=\"text-align: right;\">\n",
       "      <th></th>\n",
       "      <th>value</th>\n",
       "      <th>datetime</th>\n",
       "    </tr>\n",
       "  </thead>\n",
       "  <tbody>\n",
       "    <tr>\n",
       "      <th>0</th>\n",
       "      <td>0.693199</td>\n",
       "      <td>2019-07-01T00:00:00+02:00</td>\n",
       "    </tr>\n",
       "    <tr>\n",
       "      <th>1</th>\n",
       "      <td>0.649871</td>\n",
       "      <td>2019-07-01T01:00:00+02:00</td>\n",
       "    </tr>\n",
       "    <tr>\n",
       "      <th>2</th>\n",
       "      <td>0.616383</td>\n",
       "      <td>2019-07-01T02:00:00+02:00</td>\n",
       "    </tr>\n",
       "    <tr>\n",
       "      <th>3</th>\n",
       "      <td>0.603692</td>\n",
       "      <td>2019-07-01T03:00:00+02:00</td>\n",
       "    </tr>\n",
       "    <tr>\n",
       "      <th>4</th>\n",
       "      <td>0.601464</td>\n",
       "      <td>2019-07-01T04:00:00+02:00</td>\n",
       "    </tr>\n",
       "    <tr>\n",
       "      <th>...</th>\n",
       "      <td>...</td>\n",
       "      <td>...</td>\n",
       "    </tr>\n",
       "    <tr>\n",
       "      <th>2203</th>\n",
       "      <td>0.780639</td>\n",
       "      <td>2019-09-30T19:00:00+02:00</td>\n",
       "    </tr>\n",
       "    <tr>\n",
       "      <th>2204</th>\n",
       "      <td>0.826588</td>\n",
       "      <td>2019-09-30T20:00:00+02:00</td>\n",
       "    </tr>\n",
       "    <tr>\n",
       "      <th>2205</th>\n",
       "      <td>0.810221</td>\n",
       "      <td>2019-09-30T21:00:00+02:00</td>\n",
       "    </tr>\n",
       "    <tr>\n",
       "      <th>2206</th>\n",
       "      <td>0.730534</td>\n",
       "      <td>2019-09-30T22:00:00+02:00</td>\n",
       "    </tr>\n",
       "    <tr>\n",
       "      <th>2207</th>\n",
       "      <td>0.665717</td>\n",
       "      <td>2019-09-30T23:00:00+02:00</td>\n",
       "    </tr>\n",
       "  </tbody>\n",
       "</table>\n",
       "<p>2208 rows × 2 columns</p>\n",
       "</div>"
      ],
      "text/plain": [
       "         value                   datetime\n",
       "0     0.693199  2019-07-01T00:00:00+02:00\n",
       "1     0.649871  2019-07-01T01:00:00+02:00\n",
       "2     0.616383  2019-07-01T02:00:00+02:00\n",
       "3     0.603692  2019-07-01T03:00:00+02:00\n",
       "4     0.601464  2019-07-01T04:00:00+02:00\n",
       "...        ...                        ...\n",
       "2203  0.780639  2019-09-30T19:00:00+02:00\n",
       "2204  0.826588  2019-09-30T20:00:00+02:00\n",
       "2205  0.810221  2019-09-30T21:00:00+02:00\n",
       "2206  0.730534  2019-09-30T22:00:00+02:00\n",
       "2207  0.665717  2019-09-30T23:00:00+02:00\n",
       "\n",
       "[2208 rows x 2 columns]"
      ]
     },
     "execution_count": 2,
     "metadata": {},
     "output_type": "execute_result"
    }
   ],
   "source": [
    "consumption = pd.read_csv('export_ConsumptionDemand_2022-09-22_19_42.csv',delimiter=';',)\n",
    "peakConsumption = consumption['value'].max(axis = 0)\n",
    "peakConsumption\n",
    "consumption['value']=consumption['value'].div(peakConsumption)\n",
    "normalisedConsumption = consumption.drop(columns=['id','name','geoid','geoname'])\n",
    "normalisedConsumption.to_csv('normalisedConsumption.csv')\n",
    "normalisedConsumption"
   ]
  },
  {
   "cell_type": "code",
   "execution_count": 5,
   "metadata": {},
   "outputs": [
    {
     "name": "stdout",
     "output_type": "stream",
     "text": [
      "True\n"
     ]
    },
    {
     "data": {
      "text/plain": [
       "[0, 1, 2, 3, 4, 5, 6, 7, 8, 9]"
      ]
     },
     "execution_count": 5,
     "metadata": {},
     "output_type": "execute_result"
    }
   ],
   "source": [
    "print(normalisedConsumption['value'].max(axis = 0) == 1)\n",
    "a=list(range(0,10,1))\n",
    "a\n",
    "consumption.drop"
   ]
  }
 ],
 "metadata": {
  "kernelspec": {
   "display_name": "Python 3.9.12 ('base')",
   "language": "python",
   "name": "python3"
  },
  "language_info": {
   "codemirror_mode": {
    "name": "ipython",
    "version": 3
   },
   "file_extension": ".py",
   "mimetype": "text/x-python",
   "name": "python",
   "nbconvert_exporter": "python",
   "pygments_lexer": "ipython3",
   "version": "3.9.12"
  },
  "orig_nbformat": 4,
  "vscode": {
   "interpreter": {
    "hash": "92d26938485ea6bea67bf2e2bb4662b06e39d7cc20cef26f940ca706eab939d3"
   }
  }
 },
 "nbformat": 4,
 "nbformat_minor": 2
}
