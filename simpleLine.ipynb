{
 "cells": [
  {
   "cell_type": "code",
   "execution_count": null,
   "metadata": {},
   "outputs": [],
   "source": []
  },
  {
   "cell_type": "code",
   "execution_count": null,
   "metadata": {},
   "outputs": [],
   "source": []
  },
  {
   "cell_type": "code",
   "execution_count": null,
   "metadata": {},
   "outputs": [],
   "source": [
    "# Distances\n",
    "\n",
    "a = 9 #m\n",
    "b = 3 #m\n",
    "\n",
    "d_AB = ((a/2)**2 + b**2) ** (1/2) #m\n",
    "d_AC = a    #m\n",
    "d_BC = d_AB #m"
   ]
  },
  {
   "cell_type": "code",
   "execution_count": null,
   "metadata": {},
   "outputs": [],
   "source": [
    "# Conductor Characteristics\n",
    "\n",
    "# 54Al + 7Ac\n",
    "# Type Cardenal\n",
    "\n",
    "R = 0.062   # Ohms/km (AC resistance)\n",
    "d = 30.40   # diameter in mm\n",
    "kg = 0.089  #\n",
    "G = 0 # In this case we consider Admittance negligible"
   ]
  },
  {
   "cell_type": "code",
   "execution_count": 6,
   "metadata": {},
   "outputs": [],
   "source": [
    "# Inductance calculation\n",
    "\n",
    "GMD = (d_AB+d_BC+d_AC) ** (1/3) \n",
    "GMR = kg*(d/2)\n",
    "L = 0.2*math.log((GMD*1000)/GMR) #mH/km  / Should give around 1 mH/km\n",
    "\n",
    "f= 50 # Hz\n",
    "Xl = 2*pi*f*L*1000 # Ohm/km\n"
   ]
  },
  {
   "cell_type": "code",
   "execution_count": null,
   "metadata": {},
   "outputs": [],
   "source": [
    "# Capacitance\n",
    "\n",
    "Req = d/2\n",
    "C = 1000/(18*math.log(GMD*1000/Req)) # nF/km / around 0-20nF/km in overhead lines"
   ]
  },
  {
   "cell_type": "code",
   "execution_count": 8,
   "metadata": {},
   "outputs": [],
   "source": [
    "# Capacitance\n",
    "\n",
    "Req = d/2\n",
    "C = 1000/(18*math.log(GMD*1000/Req)) # nF/km / around 0-20nF/km in overhead lines"
   ]
  }
 ],
 "metadata": {
  "kernelspec": {
   "display_name": "Python 3.9.12 ('base')",
   "language": "python",
   "name": "python3"
  },
  "language_info": {
   "codemirror_mode": {
    "name": "ipython",
    "version": 3
   },
   "file_extension": ".py",
   "mimetype": "text/x-python",
   "name": "python",
   "nbconvert_exporter": "python",
   "pygments_lexer": "ipython3",
   "version": "3.9.12"
  },
  "orig_nbformat": 4,
  "vscode": {
   "interpreter": {
    "hash": "92d26938485ea6bea67bf2e2bb4662b06e39d7cc20cef26f940ca706eab939d3"
   }
  }
 },
 "nbformat": 4,
 "nbformat_minor": 2
}
